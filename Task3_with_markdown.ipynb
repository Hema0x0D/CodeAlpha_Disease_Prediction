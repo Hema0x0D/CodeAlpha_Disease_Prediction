{
 "cells": [
  {
   "cell_type": "markdown",
   "id": "459139f7",
   "metadata": {},
   "source": [
    "# Handwritten Character Recognition 🖋️"
   ]
  },
  {
   "cell_type": "code",
   "execution_count": 3,
   "id": "9778f342-59f8-45d0-b00c-8ee3bcf63243",
   "metadata": {},
   "outputs": [
    {
     "name": "stdout",
     "output_type": "stream",
     "text": [
      "   age  sex  cp  trestbps  chol  fbs  restecg  thalach  exang  oldpeak  slope  \\\n",
      "0   69    1   0       160   234    1        2      131      0      0.1      1   \n",
      "1   69    0   0       140   239    0        0      151      0      1.8      0   \n",
      "2   66    0   0       150   226    0        0      114      0      2.6      2   \n",
      "3   65    1   0       138   282    1        2      174      0      1.4      1   \n",
      "4   64    1   0       110   211    0        2      144      1      1.8      1   \n",
      "\n",
      "   ca  thal  condition  \n",
      "0   1     0          0  \n",
      "1   2     0          0  \n",
      "2   0     0          0  \n",
      "3   1     0          1  \n",
      "4   0     0          0  \n",
      "Dataset shape: (297, 14)\n",
      "<class 'pandas.core.frame.DataFrame'>\n",
      "RangeIndex: 297 entries, 0 to 296\n",
      "Data columns (total 14 columns):\n",
      " #   Column     Non-Null Count  Dtype  \n",
      "---  ------     --------------  -----  \n",
      " 0   age        297 non-null    int64  \n",
      " 1   sex        297 non-null    int64  \n",
      " 2   cp         297 non-null    int64  \n",
      " 3   trestbps   297 non-null    int64  \n",
      " 4   chol       297 non-null    int64  \n",
      " 5   fbs        297 non-null    int64  \n",
      " 6   restecg    297 non-null    int64  \n",
      " 7   thalach    297 non-null    int64  \n",
      " 8   exang      297 non-null    int64  \n",
      " 9   oldpeak    297 non-null    float64\n",
      " 10  slope      297 non-null    int64  \n",
      " 11  ca         297 non-null    int64  \n",
      " 12  thal       297 non-null    int64  \n",
      " 13  condition  297 non-null    int64  \n",
      "dtypes: float64(1), int64(13)\n",
      "memory usage: 32.6 KB\n"
     ]
    }
   ],
   "source": [
    "import pandas as pd\n",
    "\n",
    "# Path to the dataset\n",
    "dataset_path = r\"C:\\Users\\ibrah\\OneDrive\\Desktop\\data_set3\\heart_cleveland_upload.csv\"\n",
    "\n",
    "# Load dataset\n",
    "df = pd.read_csv(dataset_path)\n",
    "\n",
    "# Check first few rows\n",
    "print(df.head())\n",
    "\n",
    "# Dataset shape\n",
    "print(\"Dataset shape:\", df.shape)\n",
    "\n",
    "# Dataset info\n",
    "df.info()\n"
   ]
  },
  {
   "cell_type": "markdown",
   "id": "974be371",
   "metadata": {},
   "source": [
    "## 1️⃣ Importing Libraries & Dataset"
   ]
  },
  {
   "cell_type": "code",
   "execution_count": 7,
   "id": "1192f4e1-8874-42b8-95f1-c25049eec625",
   "metadata": {},
   "outputs": [
    {
     "name": "stdout",
     "output_type": "stream",
     "text": [
      "age          0\n",
      "sex          0\n",
      "cp           0\n",
      "trestbps     0\n",
      "chol         0\n",
      "fbs          0\n",
      "restecg      0\n",
      "thalach      0\n",
      "exang        0\n",
      "oldpeak      0\n",
      "slope        0\n",
      "ca           0\n",
      "thal         0\n",
      "condition    0\n",
      "dtype: int64\n",
      "              age         sex          cp    trestbps        chol         fbs  \\\n",
      "count  297.000000  297.000000  297.000000  297.000000  297.000000  297.000000   \n",
      "mean    54.542088    0.676768    2.158249  131.693603  247.350168    0.144781   \n",
      "std      9.049736    0.468500    0.964859   17.762806   51.997583    0.352474   \n",
      "min     29.000000    0.000000    0.000000   94.000000  126.000000    0.000000   \n",
      "25%     48.000000    0.000000    2.000000  120.000000  211.000000    0.000000   \n",
      "50%     56.000000    1.000000    2.000000  130.000000  243.000000    0.000000   \n",
      "75%     61.000000    1.000000    3.000000  140.000000  276.000000    0.000000   \n",
      "max     77.000000    1.000000    3.000000  200.000000  564.000000    1.000000   \n",
      "\n",
      "          restecg     thalach       exang     oldpeak       slope          ca  \\\n",
      "count  297.000000  297.000000  297.000000  297.000000  297.000000  297.000000   \n",
      "mean     0.996633  149.599327    0.326599    1.055556    0.602694    0.676768   \n",
      "std      0.994914   22.941562    0.469761    1.166123    0.618187    0.938965   \n",
      "min      0.000000   71.000000    0.000000    0.000000    0.000000    0.000000   \n",
      "25%      0.000000  133.000000    0.000000    0.000000    0.000000    0.000000   \n",
      "50%      1.000000  153.000000    0.000000    0.800000    1.000000    0.000000   \n",
      "75%      2.000000  166.000000    1.000000    1.600000    1.000000    1.000000   \n",
      "max      2.000000  202.000000    1.000000    6.200000    2.000000    3.000000   \n",
      "\n",
      "             thal   condition  \n",
      "count  297.000000  297.000000  \n",
      "mean     0.835017    0.461279  \n",
      "std      0.956690    0.499340  \n",
      "min      0.000000    0.000000  \n",
      "25%      0.000000    0.000000  \n",
      "50%      0.000000    0.000000  \n",
      "75%      2.000000    1.000000  \n",
      "max      2.000000    1.000000  \n",
      "condition\n",
      "0    160\n",
      "1    137\n",
      "Name: count, dtype: int64\n"
     ]
    }
   ],
   "source": [
    "# Check for missing values\n",
    "print(df.isnull().sum())\n",
    "\n",
    "# Get basic statistics\n",
    "print(df.describe())\n",
    "\n",
    "# Check unique values in target column (usually 'target')\n",
    "# Check unique values in the target column (should be 'condition' instead of 'target')\n",
    "print(df['condition'].value_counts())\n",
    "\n"
   ]
  },
  {
   "cell_type": "code",
   "execution_count": 9,
   "id": "aafda60e-4f91-4585-b64b-0690e01ec0ff",
   "metadata": {},
   "outputs": [
    {
     "name": "stdout",
     "output_type": "stream",
     "text": [
      "Accuracy: 0.9166666666666666\n",
      "\n",
      "Confusion Matrix:\n",
      " [[32  0]\n",
      " [ 5 23]]\n",
      "\n",
      "Classification Report:\n",
      "               precision    recall  f1-score   support\n",
      "\n",
      "           0       0.86      1.00      0.93        32\n",
      "           1       1.00      0.82      0.90        28\n",
      "\n",
      "    accuracy                           0.92        60\n",
      "   macro avg       0.93      0.91      0.91        60\n",
      "weighted avg       0.93      0.92      0.92        60\n",
      "\n"
     ]
    }
   ],
   "source": [
    "from sklearn.model_selection import train_test_split\n",
    "from sklearn.preprocessing import StandardScaler\n",
    "from sklearn.metrics import accuracy_score, confusion_matrix, classification_report\n",
    "from sklearn.linear_model import LogisticRegression\n",
    "\n",
    "# 1️⃣ Separate features and target\n",
    "X = df.drop('condition', axis=1)\n",
    "y = df['condition']\n",
    "\n",
    "# 2️⃣ Scale numerical features\n",
    "scaler = StandardScaler()\n",
    "X_scaled = scaler.fit_transform(X)\n",
    "\n",
    "# 3️⃣ Train-test split\n",
    "X_train, X_test, y_train, y_test = train_test_split(X_scaled, y, test_size=0.2, random_state=42, stratify=y)\n",
    "\n",
    "# 4️⃣ Build a Logistic Regression model\n",
    "model = LogisticRegression()\n",
    "model.fit(X_train, y_train)\n",
    "\n",
    "# 5️⃣ Evaluate model\n",
    "y_pred = model.predict(X_test)\n",
    "print(\"Accuracy:\", accuracy_score(y_test, y_pred))\n",
    "print(\"\\nConfusion Matrix:\\n\", confusion_matrix(y_test, y_pred))\n",
    "print(\"\\nClassification Report:\\n\", classification_report(y_test, y_pred))\n"
   ]
  },
  {
   "cell_type": "code",
   "execution_count": 13,
   "id": "53eed555-b78c-4245-bc67-ec4c9368cfc4",
   "metadata": {},
   "outputs": [
    {
     "name": "stdout",
     "output_type": "stream",
     "text": [
      "✅ Accuracy: 0.85\n",
      "\n",
      "✅ Confusion Matrix:\n",
      " [[29  3]\n",
      " [ 6 22]]\n",
      "\n",
      "✅ Classification Report:\n",
      "               precision    recall  f1-score   support\n",
      "\n",
      "           0       0.83      0.91      0.87        32\n",
      "           1       0.88      0.79      0.83        28\n",
      "\n",
      "    accuracy                           0.85        60\n",
      "   macro avg       0.85      0.85      0.85        60\n",
      "weighted avg       0.85      0.85      0.85        60\n",
      "\n"
     ]
    },
    {
     "name": "stderr",
     "output_type": "stream",
     "text": [
      "C:\\Users\\ibrah\\anaconda3\\Lib\\site-packages\\xgboost\\training.py:183: UserWarning: [18:14:01] WARNING: C:\\actions-runner\\_work\\xgboost\\xgboost\\src\\learner.cc:738: \n",
      "Parameters: { \"use_label_encoder\" } are not used.\n",
      "\n",
      "  bst.update(dtrain, iteration=i, fobj=obj)\n"
     ]
    },
    {
     "data": {
      "image/png": "[encoded data removed]",
      "text/plain": [
       "<Figure size 600x500 with 2 Axes>"
      ]
     },
     "metadata": {},
     "output_type": "display_data"
    },
    {
     "data": {
      "image/png": "[encoded data removed]",
      "text/plain": [
       "<Figure size 800x600 with 1 Axes>"
      ]
     },
     "metadata": {},
     "output_type": "display_data"
    }
   ],
   "source": [
    "import pandas as pd\n",
    "import numpy as np\n",
    "from sklearn.model_selection import train_test_split\n",
    "from sklearn.preprocessing import StandardScaler\n",
    "from sklearn.metrics import accuracy_score, confusion_matrix, classification_report, roc_curve, auc\n",
    "import matplotlib.pyplot as plt\n",
    "import seaborn as sns\n",
    "import xgboost as xgb\n",
    "\n",
    "# 1️⃣ Load dataset\n",
    "dataset_path = r\"C:\\Users\\ibrah\\OneDrive\\Desktop\\data_set3\\heart_cleveland_upload.csv\"\n",
    "df = pd.read_csv(dataset_path)\n",
    "\n",
    "# 2️⃣ Separate features and target\n",
    "X = df.drop('condition', axis=1)\n",
    "y = df['condition']\n",
    "\n",
    "# 3️⃣ Scale features\n",
    "scaler = StandardScaler()\n",
    "X_scaled = scaler.fit_transform(X)\n",
    "\n",
    "# 4️⃣ Train-test split\n",
    "X_train, X_test, y_train, y_test = train_test_split(\n",
    "    X_scaled, y, test_size=0.2, random_state=42, stratify=y\n",
    ")\n",
    "\n",
    "# 5️⃣ Build & train XGBoost classifier\n",
    "model = xgb.XGBClassifier(use_label_encoder=False, eval_metric='logloss', random_state=42)\n",
    "model.fit(X_train, y_train)\n",
    "\n",
    "# 6️⃣ Evaluate model\n",
    "y_pred = model.predict(X_test)\n",
    "print(\"✅ Accuracy:\", accuracy_score(y_test, y_pred))\n",
    "print(\"\\n✅ Confusion Matrix:\\n\", confusion_matrix(y_test, y_pred))\n",
    "print(\"\\n✅ Classification Report:\\n\", classification_report(y_test, y_pred))\n",
    "\n",
    "# 7️⃣ Plot confusion matrix\n",
    "plt.figure(figsize=(6, 5))\n",
    "sns.heatmap(confusion_matrix(y_test, y_pred), annot=True, fmt='d', cmap='Blues')\n",
    "plt.xlabel('Predicted')\n",
    "plt.ylabel('True')\n",
    "plt.title('Confusion Matrix')\n",
    "plt.show()\n",
    "\n",
    "# 8️⃣ ROC Curve\n",
    "y_pred_proba = model.predict_proba(X_test)[:, 1]\n",
    "fpr, tpr, thresholds = roc_curve(y_test, y_pred_proba)\n",
    "roc_auc = auc(fpr, tpr)\n",
    "\n",
    "plt.figure(figsize=(8, 6))\n",
    "plt.plot(fpr, tpr, color='darkorange', lw=2, label='ROC curve (AUC = %0.2f)' % roc_auc)\n",
    "plt.plot([0, 1], [0, 1], color='navy', lw=2, linestyle='--')\n",
    "plt.xlim([0.0, 1.0])\n",
    "plt.ylim([0.0, 1.05])\n",
    "plt.xlabel('False Positive Rate')\n",
    "plt.ylabel('True Positive Rate')\n",
    "plt.title('Receiver Operating Characteristic (ROC) Curve')\n",
    "plt.legend(loc='lower right')\n",
    "plt.show()\n"
   ]
  },
  {
   "cell_type": "markdown",
   "id": "2c08c2b0",
   "metadata": {},
   "source": [
    "## 2️⃣ Data Preprocessing & Exploration"
   ]
  },
  {
   "cell_type": "code",
   "execution_count": null,
   "id": "f693b6b2-2e5c-4523-9de6-81da1d58edbe",
   "metadata": {},
   "outputs": [],
   "source": []
  },
  {
   "cell_type": "markdown",
   "id": "2d000681",
   "metadata": {},
   "source": [
    "## 3️⃣ Model Building & Training"
   ]
  },
  {
   "cell_type": "markdown",
   "id": "b0687e91",
   "metadata": {},
   "source": [
    "## 4️⃣ Model Evaluation & Results"
   ]
  },
  {
   "cell_type": "markdown",
   "id": "6975ce6c",
   "metadata": {},
   "source": [
    "## 🎯 Final Observations & Conclusion"
   ]
  }
 ],
 "metadata": {
  "kernelspec": {
   "display_name": "Python 3 (ipykernel)",
   "language": "python",
   "name": "python3"
  },
  "language_info": {
   "codemirror_mode": {
    "name": "ipython",
    "version": 3
   },
   "file_extension": ".py",
   "mimetype": "text/x-python",
   "name": "python",
   "nbconvert_exporter": "python",
   "pygments_lexer": "ipython3",
   "version": "3.12.3"
  }
 },
 "nbformat": 4,
 "nbformat_minor": 5
}
